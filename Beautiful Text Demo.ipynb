{
 "cells": [
  {
   "cell_type": "code",
   "execution_count": 1,
   "metadata": {},
   "outputs": [],
   "source": [
    "from beautifultext import BeautifulText"
   ]
  },
  {
   "cell_type": "code",
   "execution_count": 2,
   "metadata": {},
   "outputs": [],
   "source": [
    "blue_text = BeautifulText(color='blue')\n",
    "teal_text = BeautifulText(color='#008080')"
   ]
  },
  {
   "cell_type": "code",
   "execution_count": 3,
   "metadata": {},
   "outputs": [
    {
     "data": {
      "text/markdown": [
       "<span style='color: blue;\n",
       "                        font-family: serif;\n",
       "                        font-weight: normal;\n",
       "                        font-size: 16px;\n",
       "                        font-style: normal;\n",
       "                        text-decoration: none;\n",
       "                        letter-spacing: 1px;\n",
       "                        line-height: 0.8px;\n",
       "                        word-spacing: 1px;\n",
       "                        text-shadow: none;\n",
       "                        background-color: none;'>\n",
       "                        Lorem ipsum dolor sit amet, consectetur adipiscing elit. Pellentesque cursus eros eget mi commodo, in ultricies lacus vulputate. Ut vel dui a augue feugiat mollis. Phasellus malesuada diam dui, eget accumsan nunc suscipit et. Cras et vestibulum sapien. Quisque a dolor vel nisl tempor cursus. Praesent sed sagittis eros. Mauris sed ultricies metus.\n",
       "                        </span>\n",
       "                        "
      ],
      "text/plain": [
       "<IPython.core.display.Markdown object>"
      ]
     },
     "metadata": {},
     "output_type": "display_data"
    }
   ],
   "source": [
    "blue_text.printbeautiful(\"Lorem ipsum dolor sit amet, consectetur adipiscing elit. Pellentesque cursus eros eget mi commodo, in ultricies lacus vulputate. Ut vel dui a augue feugiat mollis. Phasellus malesuada diam dui, eget accumsan nunc suscipit et. Cras et vestibulum sapien. Quisque a dolor vel nisl tempor cursus. Praesent sed sagittis eros. Mauris sed ultricies metus.\")"
   ]
  },
  {
   "cell_type": "code",
   "execution_count": 4,
   "metadata": {},
   "outputs": [
    {
     "data": {
      "text/markdown": [
       "<span style='color: #008080;\n",
       "                        font-family: serif;\n",
       "                        font-weight: normal;\n",
       "                        font-size: 16px;\n",
       "                        font-style: normal;\n",
       "                        text-decoration: none;\n",
       "                        letter-spacing: 1px;\n",
       "                        line-height: 0.8px;\n",
       "                        word-spacing: 1px;\n",
       "                        text-shadow: none;\n",
       "                        background-color: none;'>\n",
       "                        Lorem ipsum dolor sit amet, consectetur adipiscing elit. Pellentesque cursus eros eget mi commodo, in ultricies lacus vulputate. Ut vel dui a augue feugiat mollis. Phasellus malesuada diam dui, eget accumsan nunc suscipit et. Cras et vestibulum sapien. Quisque a dolor vel nisl tempor cursus. Praesent sed sagittis eros. Mauris sed ultricies metus.\n",
       "                        </span>\n",
       "                        "
      ],
      "text/plain": [
       "<IPython.core.display.Markdown object>"
      ]
     },
     "metadata": {},
     "output_type": "display_data"
    }
   ],
   "source": [
    "teal_text.printbeautiful(\"Lorem ipsum dolor sit amet, consectetur adipiscing elit. Pellentesque cursus eros eget mi commodo, in ultricies lacus vulputate. Ut vel dui a augue feugiat mollis. Phasellus malesuada diam dui, eget accumsan nunc suscipit et. Cras et vestibulum sapien. Quisque a dolor vel nisl tempor cursus. Praesent sed sagittis eros. Mauris sed ultricies metus.\")"
   ]
  },
  {
   "cell_type": "code",
   "execution_count": 5,
   "metadata": {},
   "outputs": [
    {
     "data": {
      "text/markdown": [
       "<span style='color: green;\n",
       "                        font-family: Comic Sans MS;\n",
       "                        font-weight: normal;\n",
       "                        font-size: 16px;\n",
       "                        font-style: normal;\n",
       "                        text-decoration: none;\n",
       "                        letter-spacing: 1px;\n",
       "                        line-height: 0.8px;\n",
       "                        word-spacing: 1px;\n",
       "                        text-shadow: none;\n",
       "                        background-color: none;'>\n",
       "                        Lorem ipsum dolor sit amet, consectetur adipiscing elit. Pellentesque cursus eros eget mi commodo, in ultricies lacus vulputate. Ut vel dui a augue feugiat mollis. Phasellus malesuada diam dui, eget accumsan nunc suscipit et. Cras et vestibulum sapien. Quisque a dolor vel nisl tempor cursus. Praesent sed sagittis eros. Mauris sed ultricies metus.\n",
       "                        </span>\n",
       "                        "
      ],
      "text/plain": [
       "<IPython.core.display.Markdown object>"
      ]
     },
     "metadata": {},
     "output_type": "display_data"
    }
   ],
   "source": [
    "cursive = BeautifulText(font_family='Comic Sans MS', color='green')\n",
    "cursive.printbeautiful(\"Lorem ipsum dolor sit amet, consectetur adipiscing elit. Pellentesque cursus eros eget mi commodo, in ultricies lacus vulputate. Ut vel dui a augue feugiat mollis. Phasellus malesuada diam dui, eget accumsan nunc suscipit et. Cras et vestibulum sapien. Quisque a dolor vel nisl tempor cursus. Praesent sed sagittis eros. Mauris sed ultricies metus.\")"
   ]
  },
  {
   "cell_type": "code",
   "execution_count": 6,
   "metadata": {},
   "outputs": [
    {
     "data": {
      "text/markdown": [
       "<span style='color: black;\n",
       "                        font-family: serif;\n",
       "                        font-weight: bold;\n",
       "                        font-size: 16px;\n",
       "                        font-style: normal;\n",
       "                        text-decoration: none;\n",
       "                        letter-spacing: 1px;\n",
       "                        line-height: 0.8px;\n",
       "                        word-spacing: 1px;\n",
       "                        text-shadow: none;\n",
       "                        background-color: none;'>\n",
       "                        Lorem ipsum dolor sit amet, consectetur adipiscing elit. Pellentesque cursus eros eget mi commodo, in ultricies lacus vulputate. Ut vel dui a augue feugiat mollis. Phasellus malesuada diam dui, eget accumsan nunc suscipit et. Cras et vestibulum sapien. Quisque a dolor vel nisl tempor cursus. Praesent sed sagittis eros. Mauris sed ultricies metus.\n",
       "                        </span>\n",
       "                        "
      ],
      "text/plain": [
       "<IPython.core.display.Markdown object>"
      ]
     },
     "metadata": {},
     "output_type": "display_data"
    }
   ],
   "source": [
    "bold_text = BeautifulText(font_weight='bold')\n",
    "bold_text.printbeautiful(\"Lorem ipsum dolor sit amet, consectetur adipiscing elit. Pellentesque cursus eros eget mi commodo, in ultricies lacus vulputate. Ut vel dui a augue feugiat mollis. Phasellus malesuada diam dui, eget accumsan nunc suscipit et. Cras et vestibulum sapien. Quisque a dolor vel nisl tempor cursus. Praesent sed sagittis eros. Mauris sed ultricies metus.\")"
   ]
  },
  {
   "cell_type": "code",
   "execution_count": 7,
   "metadata": {},
   "outputs": [
    {
     "data": {
      "text/markdown": [
       "<span style='color: RGB(205, 92, 92);\n",
       "                        font-family: serif;\n",
       "                        font-weight: normal;\n",
       "                        font-size: 10px;\n",
       "                        font-style: normal;\n",
       "                        text-decoration: none;\n",
       "                        letter-spacing: 1px;\n",
       "                        line-height: 0.8px;\n",
       "                        word-spacing: 1px;\n",
       "                        text-shadow: none;\n",
       "                        background-color: none;'>\n",
       "                        Lorem ipsum dolor sit amet, consectetur adipiscing elit. Pellentesque cursus eros eget mi commodo, in ultricies lacus vulputate. Ut vel dui a augue feugiat mollis. Phasellus malesuada diam dui, eget accumsan nunc suscipit et. Cras et vestibulum sapien. Quisque a dolor vel nisl tempor cursus. Praesent sed sagittis eros. Mauris sed ultricies metus.\n",
       "                        </span>\n",
       "                        "
      ],
      "text/plain": [
       "<IPython.core.display.Markdown object>"
      ]
     },
     "metadata": {},
     "output_type": "display_data"
    }
   ],
   "source": [
    "small_text = BeautifulText(font_size=10, color='RGB(205, 92, 92)')\n",
    "small_text.printbeautiful(\"Lorem ipsum dolor sit amet, consectetur adipiscing elit. Pellentesque cursus eros eget mi commodo, in ultricies lacus vulputate. Ut vel dui a augue feugiat mollis. Phasellus malesuada diam dui, eget accumsan nunc suscipit et. Cras et vestibulum sapien. Quisque a dolor vel nisl tempor cursus. Praesent sed sagittis eros. Mauris sed ultricies metus.\")"
   ]
  },
  {
   "cell_type": "code",
   "execution_count": 8,
   "metadata": {},
   "outputs": [
    {
     "data": {
      "text/markdown": [
       "<span style='color: #00FFFF;\n",
       "                        font-family: serif;\n",
       "                        font-weight: normal;\n",
       "                        font-size: 16px;\n",
       "                        font-style: italic;\n",
       "                        text-decoration: none;\n",
       "                        letter-spacing: 1px;\n",
       "                        line-height: 0.8px;\n",
       "                        word-spacing: 1px;\n",
       "                        text-shadow: none;\n",
       "                        background-color: black;'>\n",
       "                        Lorem ipsum dolor sit amet, consectetur adipiscing elit. Pellentesque cursus eros eget mi commodo, in ultricies lacus vulputate. Ut vel dui a augue feugiat mollis. Phasellus malesuada diam dui, eget accumsan nunc suscipit et. Cras et vestibulum sapien. Quisque a dolor vel nisl tempor cursus. Praesent sed sagittis eros. Mauris sed ultricies metus.\n",
       "                        </span>\n",
       "                        "
      ],
      "text/plain": [
       "<IPython.core.display.Markdown object>"
      ]
     },
     "metadata": {},
     "output_type": "display_data"
    }
   ],
   "source": [
    "italic_text = BeautifulText(font_style='italic', color='#00FFFF', background_color='black')\n",
    "italic_text.printbeautiful(\"Lorem ipsum dolor sit amet, consectetur adipiscing elit. Pellentesque cursus eros eget mi commodo, in ultricies lacus vulputate. Ut vel dui a augue feugiat mollis. Phasellus malesuada diam dui, eget accumsan nunc suscipit et. Cras et vestibulum sapien. Quisque a dolor vel nisl tempor cursus. Praesent sed sagittis eros. Mauris sed ultricies metus.\")"
   ]
  },
  {
   "cell_type": "code",
   "execution_count": 9,
   "metadata": {},
   "outputs": [
    {
     "data": {
      "text/markdown": [
       "<span style='color: black;\n",
       "                        font-family: cursive;\n",
       "                        font-weight: normal;\n",
       "                        font-size: 16px;\n",
       "                        font-style: normal;\n",
       "                        text-decoration: underline green;\n",
       "                        letter-spacing: 1px;\n",
       "                        line-height: 0.8px;\n",
       "                        word-spacing: 1px;\n",
       "                        text-shadow: none;\n",
       "                        background-color: none;'>\n",
       "                        Lorem ipsum dolor sit amet, consectetur adipiscing elit. Pellentesque cursus eros eget mi commodo, in ultricies lacus vulputate. Ut vel dui a augue feugiat mollis. Phasellus malesuada diam dui, eget accumsan nunc suscipit et. Cras et vestibulum sapien. Quisque a dolor vel nisl tempor cursus. Praesent sed sagittis eros. Mauris sed ultricies metus.\n",
       "                        </span>\n",
       "                        "
      ],
      "text/plain": [
       "<IPython.core.display.Markdown object>"
      ]
     },
     "metadata": {},
     "output_type": "display_data"
    }
   ],
   "source": [
    "underline_text = BeautifulText(text_decoration='underline green', font_family='cursive')\n",
    "underline_text.printbeautiful(\"Lorem ipsum dolor sit amet, consectetur adipiscing elit. Pellentesque cursus eros eget mi commodo, in ultricies lacus vulputate. Ut vel dui a augue feugiat mollis. Phasellus malesuada diam dui, eget accumsan nunc suscipit et. Cras et vestibulum sapien. Quisque a dolor vel nisl tempor cursus. Praesent sed sagittis eros. Mauris sed ultricies metus.\")"
   ]
  },
  {
   "cell_type": "code",
   "execution_count": 11,
   "metadata": {},
   "outputs": [
    {
     "data": {
      "text/markdown": [
       "<span style='color: orange;\n",
       "                        font-family: serif;\n",
       "                        font-weight: normal;\n",
       "                        font-size: 16px;\n",
       "                        font-style: normal;\n",
       "                        text-decoration: none;\n",
       "                        letter-spacing: 1px;\n",
       "                        line-height: 0.8px;\n",
       "                        word-spacing: 1px;\n",
       "                        text-shadow: 3px 3px 3px;\n",
       "                        background-color: none;'>\n",
       "                        Lorem ipsum dolor sit amet, consectetur adipiscing elit. Pellentesque cursus eros eget mi commodo, in ultricies lacus vulputate. Ut vel dui a augue feugiat mollis. Phasellus malesuada diam dui, eget accumsan nunc suscipit et. Cras et vestibulum sapien. Quisque a dolor vel nisl tempor cursus. Praesent sed sagittis eros. Mauris sed ultricies metus.\n",
       "                        </span>\n",
       "                        "
      ],
      "text/plain": [
       "<IPython.core.display.Markdown object>"
      ]
     },
     "metadata": {},
     "output_type": "display_data"
    }
   ],
   "source": [
    "shadow_text = BeautifulText(text_shadow='3px 3px 3px', color='orange')\n",
    "shadow_text.printbeautiful(\"Lorem ipsum dolor sit amet, consectetur adipiscing elit. Pellentesque cursus eros eget mi commodo, in ultricies lacus vulputate. Ut vel dui a augue feugiat mollis. Phasellus malesuada diam dui, eget accumsan nunc suscipit et. Cras et vestibulum sapien. Quisque a dolor vel nisl tempor cursus. Praesent sed sagittis eros. Mauris sed ultricies metus.\")"
   ]
  }
 ],
 "metadata": {
  "kernelspec": {
   "display_name": "Python 3",
   "language": "python",
   "name": "python3"
  },
  "language_info": {
   "codemirror_mode": {
    "name": "ipython",
    "version": 3
   },
   "file_extension": ".py",
   "mimetype": "text/x-python",
   "name": "python",
   "nbconvert_exporter": "python",
   "pygments_lexer": "ipython3",
   "version": "3.7.3"
  }
 },
 "nbformat": 4,
 "nbformat_minor": 2
}
